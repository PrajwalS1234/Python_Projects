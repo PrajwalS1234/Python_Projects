{
  "nbformat": 4,
  "nbformat_minor": 0,
  "metadata": {
    "colab": {
      "provenance": [],
      "authorship_tag": "ABX9TyMhNC1GL8iN1jRHzkKxiyBm",
      "include_colab_link": true
    },
    "kernelspec": {
      "name": "python3",
      "display_name": "Python 3"
    },
    "language_info": {
      "name": "python"
    }
  },
  "cells": [
    {
      "cell_type": "markdown",
      "metadata": {
        "id": "view-in-github",
        "colab_type": "text"
      },
      "source": [
        "<a href=\"https://colab.research.google.com/github/PrajwalS1234/Python_Projects/blob/main/Exercise%20Creator%20(Key-Value%20Pair).ipynb\" target=\"_parent\"><img src=\"https://colab.research.google.com/assets/colab-badge.svg\" alt=\"Open In Colab\"/></a>"
      ]
    },
    {
      "cell_type": "code",
      "execution_count": 1,
      "metadata": {
        "id": "dpvZiIFIuqBP"
      },
      "outputs": [],
      "source": [
        "import numpy as np\n",
        "import pandas as pd"
      ]
    },
    {
      "cell_type": "markdown",
      "source": [
        "documentation for using google drive on colab available [here](https://colab.research.google.com/notebooks/io.ipynb#scrollTo=c2W5A2px3doP)"
      ],
      "metadata": {
        "id": "vcb7tDhKwApE"
      }
    },
    {
      "cell_type": "code",
      "source": [
        "from google.colab import drive\n",
        "from google.colab import files\n",
        "drive.mount('/content/drive')"
      ],
      "metadata": {
        "colab": {
          "base_uri": "https://localhost:8080/"
        },
        "id": "uGZBBdE9utFS",
        "outputId": "d49e3fe9-9288-4814-f6d5-253319dfc023"
      },
      "execution_count": 2,
      "outputs": [
        {
          "output_type": "stream",
          "name": "stdout",
          "text": [
            "Mounted at /content/drive\n"
          ]
        }
      ]
    },
    {
      "cell_type": "code",
      "source": [
        "# check if a file named sqldict.csv file is present in the desired foolder\n",
        "!ls \"/content/drive/My Drive/Notes/SQL Assignments and Assessments\"\n",
        "\n",
        "# # if the csv doesn't exist uncomment this and execute it\n",
        "# with open('/content/drive/My Drive/Notes/SQL Assignments and Assessments/sqldict.csv', 'w') as sqldict:\n",
        "#   pass\n",
        "\n",
        "# !ls \"/content/drive/My Drive/Notes/SQL Assignments and Assessments\""
      ],
      "metadata": {
        "colab": {
          "base_uri": "https://localhost:8080/"
        },
        "id": "3cPppqCy1T79",
        "outputId": "1aeb35d3-7db4-4fd6-f9a8-c12b7edc98b6"
      },
      "execution_count": 3,
      "outputs": [
        {
          "output_type": "stream",
          "name": "stdout",
          "text": [
            "sqldict.csv  sqlnotes.md  sqlnotes.txt\n"
          ]
        }
      ]
    },
    {
      "cell_type": "code",
      "source": [
        "import csv\n",
        "\n",
        "with open('/content/drive/My Drive/Notes/SQL Assignments and Assessments/sqldict.csv', 'r') as sqldict:\n",
        "  reader = csv.reader(sqldict) # Use csv.reader to read the CSV file\n",
        "  try:\n",
        "    next(reader) # Skip the header row if it exists\n",
        "  except StopIteration:\n",
        "    sqldict = dict()\n",
        "    print(\"CSV file is empty or has no data rows.\")\n",
        "  else:\n",
        "    sqldict = dict(reader) # Create the dictionary from the remaining rows"
      ],
      "metadata": {
        "id": "IBnoGHMgZCmR"
      },
      "execution_count": 4,
      "outputs": []
    },
    {
      "cell_type": "code",
      "source": [
        "for i in range(1, 100):\n",
        "  question = input(\"Enter the Question: \")\n",
        "  question = \"----\\n\" + question + \"\\n\\n\"\n",
        "  answer = r\"```sql\" + r\"\\n\" +  input(\"Enter the SQL Query: \") + r\"\\n```\\n\\n\\n\\n\"\n",
        "  sqldict[question] = answer\n",
        "\n",
        "  import csv\n",
        "  with open('/content/drive/My Drive/Notes/SQL Assignments and Assessments/sqldict.csv', 'w', newline='') as csvfile: # Changed sqldict.csv to a string literal.\n",
        "    fieldnames = ['key', 'value']\n",
        "    writer = csv.DictWriter(csvfile, fieldnames=fieldnames) # Changed sqldict to csvfile\n",
        "\n",
        "    for key, value in sqldict.items():\n",
        "      writer.writerow({'key': key, 'value': value})\n",
        "\n",
        "  with open('/content/drive/My Drive/Notes/SQL Assignments and Assessments/sqlnotes.txt', 'w') as notes:\n",
        "    for key, value in sqldict.items():\n",
        "      notes.write(key)\n",
        "      notes.write(value)"
      ],
      "metadata": {
        "id": "yky9dghlzu3C"
      },
      "execution_count": null,
      "outputs": []
    },
    {
      "cell_type": "code",
      "source": [],
      "metadata": {
        "id": "cJQzdd5JzuGa"
      },
      "execution_count": null,
      "outputs": []
    },
    {
      "cell_type": "code",
      "source": [
        "# /"
      ],
      "metadata": {
        "id": "D4INmltPy0w5"
      },
      "execution_count": null,
      "outputs": []
    }
  ]
}